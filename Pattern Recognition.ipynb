{
 "cells": [
  {
   "cell_type": "code",
   "execution_count": 1,
   "metadata": {},
   "outputs": [],
   "source": [
    "import numpy as np\n",
    "import pandas as pd\n",
    "import matplotlib.pyplot as plt\n",
    "import seaborn as sns"
   ]
  },
  {
   "cell_type": "code",
   "execution_count": 2,
   "metadata": {},
   "outputs": [
    {
     "data": {
      "text/html": [
       "<div>\n",
       "<style scoped>\n",
       "    .dataframe tbody tr th:only-of-type {\n",
       "        vertical-align: middle;\n",
       "    }\n",
       "\n",
       "    .dataframe tbody tr th {\n",
       "        vertical-align: top;\n",
       "    }\n",
       "\n",
       "    .dataframe thead th {\n",
       "        text-align: right;\n",
       "    }\n",
       "</style>\n",
       "<table border=\"1\" class=\"dataframe\">\n",
       "  <thead>\n",
       "    <tr style=\"text-align: right;\">\n",
       "      <th></th>\n",
       "      <th>Timestamp</th>\n",
       "      <th>DEMO_DMD_Suitcase_Airflow|3</th>\n",
       "    </tr>\n",
       "  </thead>\n",
       "  <tbody>\n",
       "    <tr>\n",
       "      <th>0</th>\n",
       "      <td>2020-07-23T07:03:15.364Z</td>\n",
       "      <td>-0.583</td>\n",
       "    </tr>\n",
       "    <tr>\n",
       "      <th>1</th>\n",
       "      <td>2020-07-23T07:03:15.372Z</td>\n",
       "      <td>-0.583</td>\n",
       "    </tr>\n",
       "    <tr>\n",
       "      <th>2</th>\n",
       "      <td>2020-07-23T07:03:15.384Z</td>\n",
       "      <td>-0.583</td>\n",
       "    </tr>\n",
       "    <tr>\n",
       "      <th>3</th>\n",
       "      <td>2020-07-23T07:03:15.395Z</td>\n",
       "      <td>-0.583</td>\n",
       "    </tr>\n",
       "    <tr>\n",
       "      <th>4</th>\n",
       "      <td>2020-07-23T07:03:15.403Z</td>\n",
       "      <td>-0.583</td>\n",
       "    </tr>\n",
       "    <tr>\n",
       "      <th>...</th>\n",
       "      <td>...</td>\n",
       "      <td>...</td>\n",
       "    </tr>\n",
       "    <tr>\n",
       "      <th>137754</th>\n",
       "      <td>2020-07-23T07:25:58.507Z</td>\n",
       "      <td>-0.790</td>\n",
       "    </tr>\n",
       "    <tr>\n",
       "      <th>137755</th>\n",
       "      <td>2020-07-23T07:25:58.515Z</td>\n",
       "      <td>-0.784</td>\n",
       "    </tr>\n",
       "    <tr>\n",
       "      <th>137756</th>\n",
       "      <td>2020-07-23T07:25:58.523Z</td>\n",
       "      <td>-0.778</td>\n",
       "    </tr>\n",
       "    <tr>\n",
       "      <th>137757</th>\n",
       "      <td>2020-07-23T07:25:58.531Z</td>\n",
       "      <td>-0.766</td>\n",
       "    </tr>\n",
       "    <tr>\n",
       "      <th>137758</th>\n",
       "      <td>2020-07-23T07:25:58.539Z</td>\n",
       "      <td>-0.766</td>\n",
       "    </tr>\n",
       "  </tbody>\n",
       "</table>\n",
       "<p>137759 rows × 2 columns</p>\n",
       "</div>"
      ],
      "text/plain": [
       "                       Timestamp  DEMO_DMD_Suitcase_Airflow|3\n",
       "0       2020-07-23T07:03:15.364Z                       -0.583\n",
       "1       2020-07-23T07:03:15.372Z                       -0.583\n",
       "2       2020-07-23T07:03:15.384Z                       -0.583\n",
       "3       2020-07-23T07:03:15.395Z                       -0.583\n",
       "4       2020-07-23T07:03:15.403Z                       -0.583\n",
       "...                          ...                          ...\n",
       "137754  2020-07-23T07:25:58.507Z                       -0.790\n",
       "137755  2020-07-23T07:25:58.515Z                       -0.784\n",
       "137756  2020-07-23T07:25:58.523Z                       -0.778\n",
       "137757  2020-07-23T07:25:58.531Z                       -0.766\n",
       "137758  2020-07-23T07:25:58.539Z                       -0.766\n",
       "\n",
       "[137759 rows x 2 columns]"
      ]
     },
     "execution_count": 2,
     "metadata": {},
     "output_type": "execute_result"
    }
   ],
   "source": [
    "df = pd.read_csv('data.csv')\n",
    "df"
   ]
  },
  {
   "cell_type": "code",
   "execution_count": 3,
   "metadata": {},
   "outputs": [
    {
     "data": {
      "text/html": [
       "<div>\n",
       "<style scoped>\n",
       "    .dataframe tbody tr th:only-of-type {\n",
       "        vertical-align: middle;\n",
       "    }\n",
       "\n",
       "    .dataframe tbody tr th {\n",
       "        vertical-align: top;\n",
       "    }\n",
       "\n",
       "    .dataframe thead th {\n",
       "        text-align: right;\n",
       "    }\n",
       "</style>\n",
       "<table border=\"1\" class=\"dataframe\">\n",
       "  <thead>\n",
       "    <tr style=\"text-align: right;\">\n",
       "      <th></th>\n",
       "      <th>Timestamp</th>\n",
       "      <th>data</th>\n",
       "    </tr>\n",
       "  </thead>\n",
       "  <tbody>\n",
       "    <tr>\n",
       "      <th>0</th>\n",
       "      <td>2020-07-23 07:03:15.364000+00:00</td>\n",
       "      <td>-0.583</td>\n",
       "    </tr>\n",
       "    <tr>\n",
       "      <th>1</th>\n",
       "      <td>2020-07-23 07:03:15.372000+00:00</td>\n",
       "      <td>-0.583</td>\n",
       "    </tr>\n",
       "    <tr>\n",
       "      <th>2</th>\n",
       "      <td>2020-07-23 07:03:15.384000+00:00</td>\n",
       "      <td>-0.583</td>\n",
       "    </tr>\n",
       "    <tr>\n",
       "      <th>3</th>\n",
       "      <td>2020-07-23 07:03:15.395000+00:00</td>\n",
       "      <td>-0.583</td>\n",
       "    </tr>\n",
       "    <tr>\n",
       "      <th>4</th>\n",
       "      <td>2020-07-23 07:03:15.403000+00:00</td>\n",
       "      <td>-0.583</td>\n",
       "    </tr>\n",
       "    <tr>\n",
       "      <th>...</th>\n",
       "      <td>...</td>\n",
       "      <td>...</td>\n",
       "    </tr>\n",
       "    <tr>\n",
       "      <th>137754</th>\n",
       "      <td>2020-07-23 07:25:58.507000+00:00</td>\n",
       "      <td>-0.790</td>\n",
       "    </tr>\n",
       "    <tr>\n",
       "      <th>137755</th>\n",
       "      <td>2020-07-23 07:25:58.515000+00:00</td>\n",
       "      <td>-0.784</td>\n",
       "    </tr>\n",
       "    <tr>\n",
       "      <th>137756</th>\n",
       "      <td>2020-07-23 07:25:58.523000+00:00</td>\n",
       "      <td>-0.778</td>\n",
       "    </tr>\n",
       "    <tr>\n",
       "      <th>137757</th>\n",
       "      <td>2020-07-23 07:25:58.531000+00:00</td>\n",
       "      <td>-0.766</td>\n",
       "    </tr>\n",
       "    <tr>\n",
       "      <th>137758</th>\n",
       "      <td>2020-07-23 07:25:58.539000+00:00</td>\n",
       "      <td>-0.766</td>\n",
       "    </tr>\n",
       "  </tbody>\n",
       "</table>\n",
       "<p>137759 rows × 2 columns</p>\n",
       "</div>"
      ],
      "text/plain": [
       "                              Timestamp   data\n",
       "0      2020-07-23 07:03:15.364000+00:00 -0.583\n",
       "1      2020-07-23 07:03:15.372000+00:00 -0.583\n",
       "2      2020-07-23 07:03:15.384000+00:00 -0.583\n",
       "3      2020-07-23 07:03:15.395000+00:00 -0.583\n",
       "4      2020-07-23 07:03:15.403000+00:00 -0.583\n",
       "...                                 ...    ...\n",
       "137754 2020-07-23 07:25:58.507000+00:00 -0.790\n",
       "137755 2020-07-23 07:25:58.515000+00:00 -0.784\n",
       "137756 2020-07-23 07:25:58.523000+00:00 -0.778\n",
       "137757 2020-07-23 07:25:58.531000+00:00 -0.766\n",
       "137758 2020-07-23 07:25:58.539000+00:00 -0.766\n",
       "\n",
       "[137759 rows x 2 columns]"
      ]
     },
     "execution_count": 3,
     "metadata": {},
     "output_type": "execute_result"
    }
   ],
   "source": [
    "df[\"Timestamp\"] = pd.to_datetime(df[\"Timestamp\"])\n",
    "df = df.rename({\"DEMO_DMD_Suitcase_Airflow|3\":\"data\"}, axis='columns')\n",
    "df"
   ]
  },
  {
   "cell_type": "code",
   "execution_count": 21,
   "metadata": {},
   "outputs": [
    {
     "data": {
      "image/png": "[encoded data removed]",
      "text/plain": [
       "<Figure size 360x288 with 1 Axes>"
      ]
     },
     "metadata": {
      "needs_background": "light"
     },
     "output_type": "display_data"
    }
   ],
   "source": [
    "data = df[\"data\"].values[10000:30000]\n",
    "\n",
    "#pattern 1\n",
    "#pattern = df[\"data\"].values[10900:11650]\n",
    "\n",
    "#pattern2\n",
    "pattern = df[\"data\"].values[10650:11650]\n",
    "\n",
    "plt.figure(figsize=(5,4))\n",
    "plt.plot(pattern)\n",
    "plt.title('Find this kind of Pattern')\n",
    "plt.show()\n"
   ]
  },
  {
   "cell_type": "code",
   "execution_count": 23,
   "metadata": {},
   "outputs": [
    {
     "data": {
      "image/png": "[encoded data removed]",
      "text/plain": [
       "<Figure size 1440x288 with 1 Axes>"
      ]
     },
     "metadata": {
      "needs_background": "light"
     },
     "output_type": "display_data"
    }
   ],
   "source": [
    "threshold = 0.35\n",
    "\n",
    "conv = np.convolve(data,np.flip(pattern),mode=\"same\")\n",
    "conv = conv/np.max(conv)\n",
    "conv[conv < threshold] = 0\n",
    "\n",
    "copy = np.copy(conv)\n",
    "m = int(len(pattern)/2)\n",
    "for i, val in enumerate(conv):\n",
    "    if val > 0:\n",
    "        copy[i-m:i+m] = 1\n",
    "\n",
    "\n",
    "fig,ax = plt.subplots(1,1,figsize=(20,4))\n",
    "plt.title('Patterns in the graph')\n",
    "ax.imshow(copy.reshape(1,-1),aspect=\"auto\", extent=[0, 20000,-8, 8],cmap=\"Reds\",alpha=0.5)\n",
    "ax.plot(data)\n",
    "\n",
    "\n",
    "\n",
    "plt.show()\n",
    "\n"
   ]
  },
  {
   "cell_type": "code",
   "execution_count": null,
   "metadata": {},
   "outputs": [],
   "source": []
  },
  {
   "cell_type": "code",
   "execution_count": null,
   "metadata": {},
   "outputs": [],
   "source": []
  }
 ],
 "metadata": {
  "kernelspec": {
   "display_name": "Python 3 (ipykernel)",
   "language": "python",
   "name": "python3"
  },
  "language_info": {
   "codemirror_mode": {
    "name": "ipython",
    "version": 3
   },
   "file_extension": ".py",
   "mimetype": "text/x-python",
   "name": "python",
   "nbconvert_exporter": "python",
   "pygments_lexer": "ipython3",
   "version": "3.9.7"
  }
 },
 "nbformat": 4,
 "nbformat_minor": 2
}
